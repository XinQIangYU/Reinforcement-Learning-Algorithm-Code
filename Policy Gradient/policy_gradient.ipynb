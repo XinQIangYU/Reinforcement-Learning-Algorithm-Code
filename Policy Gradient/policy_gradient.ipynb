{
 "cells": [
  {
   "cell_type": "markdown",
   "id": "94970b33",
   "metadata": {},
   "source": [
    "### Policy"
   ]
  },
  {
   "cell_type": "code",
   "execution_count": 1,
   "id": "3f1db283",
   "metadata": {},
   "outputs": [],
   "source": [
    "import torch\n",
    "import torch.nn as nn\n",
    "import torch.nn.functional as F\n",
    "class PGNet(nn.Module):\n",
    "    def __init__(self, input_dim,output_dim,hidden_dim=128):\n",
    "        \"\"\" 初始化q网络，为全连接网络\n",
    "            input_dim: 输入的特征数即环境的状态维度\n",
    "            output_dim: 输出的动作维度\n",
    "        \"\"\"\n",
    "        super(PGNet, self).__init__()\n",
    "        self.fc1 = nn.Linear(input_dim, hidden_dim) # 输入层\n",
    "        self.fc2 = nn.Linear(hidden_dim,hidden_dim) # 隐藏层\n",
    "        self.fc3 = nn.Linear(hidden_dim, output_dim) # 输出层\n",
    "    def forward(self, x):\n",
    "        x = F.relu(self.fc1(x))\n",
    "        x = F.relu(self.fc2(x))\n",
    "        x = torch.sigmoid(self.fc3(x))\n",
    "        return x"
   ]
  },
  {
   "cell_type": "markdown",
   "id": "1242527a",
   "metadata": {},
   "source": [
    "### Agent"
   ]
  },
  {
   "cell_type": "code",
   "execution_count": 2,
   "id": "f00aab4f",
   "metadata": {},
   "outputs": [],
   "source": [
    "import torch\n",
    "from torch.distributions import Bernoulli\n",
    "from torch.autograd import Variable\n",
    "import numpy as np\n",
    "\n",
    "class PolicyGradient:\n",
    "    \n",
    "    def __init__(self, model,memory,cfg):\n",
    "        self.gamma = cfg['gamma']\n",
    "        self.device = torch.device(cfg['device']) \n",
    "        self.memory = memory\n",
    "        self.policy_net = model.to(self.device)\n",
    "        self.optimizer = torch.optim.RMSprop(self.policy_net.parameters(), lr=cfg['lr'])\n",
    "\n",
    "    def sample_action(self,state):\n",
    "\n",
    "        state = torch.from_numpy(state).float()\n",
    "        state = Variable(state)\n",
    "        probs = self.policy_net(state)\n",
    "        m = Bernoulli(probs) # 伯努利分布\n",
    "        action = m.sample()\n",
    "        \n",
    "        action = action.data.numpy().astype(int)[0] # 转为标量\n",
    "        return action\n",
    "    def predict_action(self,state):\n",
    "\n",
    "        state = torch.from_numpy(state).float()\n",
    "        state = Variable(state)\n",
    "        probs = self.policy_net(state)\n",
    "        m = Bernoulli(probs) # 伯努利分布\n",
    "        action = m.sample()\n",
    "        action = action.data.numpy().astype(int)[0] # 转为标量\n",
    "        return action\n",
    "        \n",
    "    def update(self):\n",
    "        state_pool,action_pool,reward_pool= self.memory.sample()\n",
    "        state_pool,action_pool,reward_pool = list(state_pool),list(action_pool),list(reward_pool)\n",
    "        # Discount reward\n",
    "        running_add = 0\n",
    "        for i in reversed(range(len(reward_pool))):\n",
    "            if reward_pool[i] == 0:\n",
    "                running_add = 0\n",
    "            else:\n",
    "                running_add = running_add * self.gamma + reward_pool[i]\n",
    "                reward_pool[i] = running_add\n",
    "\n",
    "        # Normalize reward\n",
    "        reward_mean = np.mean(reward_pool)\n",
    "        reward_std = np.std(reward_pool)\n",
    "        for i in range(len(reward_pool)):\n",
    "            reward_pool[i] = (reward_pool[i] - reward_mean) / reward_std\n",
    "\n",
    "        # Gradient Desent\n",
    "        self.optimizer.zero_grad()\n",
    "\n",
    "        for i in range(len(reward_pool)):\n",
    "            state = state_pool[i]\n",
    "            action = Variable(torch.FloatTensor([action_pool[i]]))\n",
    "            reward = reward_pool[i]\n",
    "            state = Variable(torch.from_numpy(state).float())\n",
    "            probs = self.policy_net(state)\n",
    "            m = Bernoulli(probs)\n",
    "            loss = -m.log_prob(action) * reward  # Negtive score function x reward\n",
    "            # print(loss)\n",
    "            loss.backward()\n",
    "        self.optimizer.step()\n",
    "        self.memory.clear()"
   ]
  },
  {
   "cell_type": "code",
   "execution_count": null,
   "id": "15c883d9",
   "metadata": {},
   "outputs": [],
   "source": []
  }
 ],
 "metadata": {
  "kernelspec": {
   "display_name": "Python 3 (ipykernel)",
   "language": "python",
   "name": "python3"
  },
  "language_info": {
   "codemirror_mode": {
    "name": "ipython",
    "version": 3
   },
   "file_extension": ".py",
   "mimetype": "text/x-python",
   "name": "python",
   "nbconvert_exporter": "python",
   "pygments_lexer": "ipython3",
   "version": "3.7.16"
  }
 },
 "nbformat": 4,
 "nbformat_minor": 5
}
